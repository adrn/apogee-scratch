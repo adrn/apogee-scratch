{
 "cells": [
  {
   "cell_type": "code",
   "execution_count": null,
   "metadata": {},
   "outputs": [],
   "source": [
    "# Third-party\n",
    "import astropy.coordinates as coord\n",
    "from astropy.table import Table\n",
    "import astropy.units as u\n",
    "import matplotlib.pyplot as plt\n",
    "import numpy as np\n",
    "%matplotlib inline\n",
    "\n",
    "import gala.coordinates as gc\n",
    "import gala.dynamics as gd\n",
    "import gala.potential as gp\n",
    "from gala.units import galactic\n",
    "from pyia import GaiaData"
   ]
  },
  {
   "cell_type": "markdown",
   "metadata": {},
   "source": [
    "Omega cen cluster phase-space coordinates from Eugene Vasiliev:"
   ]
  },
  {
   "cell_type": "code",
   "execution_count": null,
   "metadata": {},
   "outputs": [],
   "source": [
    "globclust = Table.read('/Users/adrian/data/Misc/Vasiliev-globclust.txt', format='ascii.fixed_width')\n",
    "cs = coord.SkyCoord(ra=globclust['RA']*u.deg, \n",
    "                    dec=globclust['DEC']*u.deg,\n",
    "                    distance=globclust['D']*u.kpc,\n",
    "                    pm_ra_cosdec=globclust['PMRA']*u.mas/u.yr,\n",
    "                    pm_dec=globclust['PMDEC']*u.mas/u.yr,\n",
    "                    radial_velocity=globclust['Vlos']*u.km/u.s)"
   ]
  },
  {
   "cell_type": "code",
   "execution_count": null,
   "metadata": {},
   "outputs": [],
   "source": [
    "c = cs[globclust['Name'] == 'NGC 5139 (omega Cen)']\n",
    "c"
   ]
  },
  {
   "cell_type": "code",
   "execution_count": null,
   "metadata": {},
   "outputs": [],
   "source": [
    "galcen_frame = coord.Galactocentric(galcen_distance=8.1*u.kpc)"
   ]
  },
  {
   "cell_type": "markdown",
   "metadata": {},
   "source": [
    "Generate Galactocentric orbital initial conditions for Omega cen:"
   ]
  },
  {
   "cell_type": "code",
   "execution_count": null,
   "metadata": {},
   "outputs": [],
   "source": [
    "w0 = gd.PhaseSpacePosition(c.transform_to(galcen_frame).data)"
   ]
  },
  {
   "cell_type": "markdown",
   "metadata": {},
   "source": [
    "Define a mass model for the Milky Way:"
   ]
  },
  {
   "cell_type": "code",
   "execution_count": null,
   "metadata": {},
   "outputs": [],
   "source": [
    "mw = gp.MilkyWayPotential()\n",
    "H = gp.Hamiltonian(mw)\n",
    "for k in mw:\n",
    "    print(repr(mw[k]))"
   ]
  },
  {
   "cell_type": "markdown",
   "metadata": {},
   "source": [
    "Integrate the orbit of Omega Cen backwards in time:"
   ]
  },
  {
   "cell_type": "code",
   "execution_count": null,
   "metadata": {},
   "outputs": [],
   "source": [
    "orbit = H.integrate_orbit(w0, dt=-0.5, t1=0, t2=-1*u.Gyr)\n",
    "_ = orbit.plot()"
   ]
  },
  {
   "cell_type": "markdown",
   "metadata": {},
   "source": [
    "Now generate a mock stream going forward in time:"
   ]
  },
  {
   "cell_type": "code",
   "execution_count": null,
   "metadata": {},
   "outputs": [],
   "source": [
    "from gala.dynamics.mockstream import fardal_stream"
   ]
  },
  {
   "cell_type": "code",
   "execution_count": null,
   "metadata": {},
   "outputs": [],
   "source": [
    "stream = fardal_stream(H, orbit[::-1], prog_mass=5e5*u.Msun, release_every=1)"
   ]
  },
  {
   "cell_type": "code",
   "execution_count": null,
   "metadata": {},
   "outputs": [],
   "source": [
    "_ = stream.plot()"
   ]
  },
  {
   "cell_type": "code",
   "execution_count": null,
   "metadata": {},
   "outputs": [],
   "source": [
    "stream_icrs = stream.to_coord_frame(coord.ICRS, galactocentric_frame=galcen_frame)"
   ]
  },
  {
   "cell_type": "code",
   "execution_count": null,
   "metadata": {},
   "outputs": [],
   "source": [
    "style = dict(marker='o', ls='none', alpha=0.5, mew=0, ms=2.5)\n",
    "\n",
    "fig, axes = plt.subplots(4, 1, figsize=(10, 10), \n",
    "                         sharex=True)\n",
    "\n",
    "ax = axes[0]\n",
    "ax.plot(stream_icrs.ra.degree,\n",
    "        stream_icrs.dec.value,\n",
    "        **style)\n",
    "ax.set_ylim(-70, -10)\n",
    "ax.set_ylabel(r'$\\delta$')\n",
    "\n",
    "ax = axes[1]\n",
    "ax.plot(stream_icrs.ra.degree,\n",
    "        stream_icrs.pm_ra_cosdec.value,\n",
    "        **style)\n",
    "ax.set_ylabel(r'$\\mu_\\alpha$')\n",
    "\n",
    "ax = axes[2]\n",
    "ax.plot(stream_icrs.ra.degree,\n",
    "        stream_icrs.pm_dec.value,\n",
    "        **style)\n",
    "ax.set_ylim(-15, 0)\n",
    "ax.set_ylabel(r'$\\mu_\\delta$')\n",
    "\n",
    "ax = axes[3]\n",
    "ax.plot(stream_icrs.ra.degree,\n",
    "        stream_icrs.radial_velocity.value,\n",
    "        **style)\n",
    "ax.set_ylim(-10, 300)\n",
    "ax.set_ylabel('RV [km/s]')\n",
    "\n",
    "ax.set_xlim(240, 180)\n",
    "ax.set_xlabel(r'$\\alpha$')"
   ]
  },
  {
   "cell_type": "code",
   "execution_count": null,
   "metadata": {},
   "outputs": [],
   "source": []
  },
  {
   "cell_type": "code",
   "execution_count": null,
   "metadata": {},
   "outputs": [],
   "source": []
  },
  {
   "cell_type": "code",
   "execution_count": null,
   "metadata": {},
   "outputs": [],
   "source": []
  }
 ],
 "metadata": {
  "_draft": {
   "nbviewer_url": "https://gist.github.com/cfe1cb19ce949f63319752f2e286566c"
  },
  "gist": {
   "data": {
    "description": "apogee-scratch/Omega-cen.ipynb",
    "public": true
   },
   "id": "cfe1cb19ce949f63319752f2e286566c"
  },
  "kernelspec": {
   "display_name": "Python [default]",
   "language": "python",
   "name": "python3"
  },
  "language_info": {
   "codemirror_mode": {
    "name": "ipython",
    "version": 3
   },
   "file_extension": ".py",
   "mimetype": "text/x-python",
   "name": "python",
   "nbconvert_exporter": "python",
   "pygments_lexer": "ipython3",
   "version": "3.6.8"
  }
 },
 "nbformat": 4,
 "nbformat_minor": 2
}