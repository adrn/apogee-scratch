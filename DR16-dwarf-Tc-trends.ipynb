{
 "cells": [
  {
   "cell_type": "code",
   "execution_count": 2,
   "metadata": {},
   "outputs": [],
   "source": [
    "# Third-party\n",
    "from astropy.io import fits, ascii\n",
    "import astropy.coordinates as coord\n",
    "from astropy.table import Table\n",
    "import astropy.units as u\n",
    "import matplotlib as mpl\n",
    "import matplotlib.pyplot as plt\n",
    "import numpy as np\n",
    "%matplotlib inline"
   ]
  },
  {
   "cell_type": "code",
   "execution_count": 3,
   "metadata": {},
   "outputs": [],
   "source": [
    "allstar = fits.getdata('/Users/adrian/data/APOGEE_DR16/allStar-r12-l33.fits')"
   ]
  },
  {
   "cell_type": "code",
   "execution_count": 4,
   "metadata": {},
   "outputs": [],
   "source": [
    "sun_mask = ((np.abs(allstar['LOGG'] - 4.44) < 0.1) &\n",
    "            (allstar['TEFF'] > 5677) & ((allstar['TEFF'] < 5877)))"
   ]
  },
  {
   "cell_type": "code",
   "execution_count": 5,
   "metadata": {},
   "outputs": [
    {
     "data": {
      "text/plain": [
       "5395"
      ]
     },
     "execution_count": 5,
     "metadata": {},
     "output_type": "execute_result"
    }
   ],
   "source": [
    "sun_mask.sum()"
   ]
  },
  {
   "cell_type": "code",
   "execution_count": null,
   "metadata": {},
   "outputs": [],
   "source": [
    "allstar['C_FE']"
   ]
  },
  {
   "cell_type": "code",
   "execution_count": 3,
   "metadata": {},
   "outputs": [],
   "source": [
    "mask = (allstar['LOGG'] > 4.) & (allstar['M_H'] > -2.) & (allstar['C_FE'] > -1)"
   ]
  },
  {
   "cell_type": "code",
   "execution_count": 38,
   "metadata": {
    "scrolled": true
   },
   "outputs": [
    {
     "data": {
      "text/plain": [
       "22063"
      ]
     },
     "execution_count": 38,
     "metadata": {},
     "output_type": "execute_result"
    }
   ],
   "source": [
    "starflag_mask = np.sum(2 ** np.array([9, 12, 13, # PERSIST_HIGH, PERSIST_JUMP_POS, PERSIST_JUMP_NEG\n",
    "                                      3, 4])) # VERY_BRIGHT_NEIGHBOR, LOW_SNR\n",
    "aspcap_mask = np.sum(2 ** np.array([7, 23])) # STAR_WARN, STAR_BAD\n",
    "\n",
    "mask = (((allstar['ASPCAPFLAG'] & aspcap_mask) == 0) &\n",
    "        ((allstar['STARFLAG'] & starflag_mask) == 0) &\n",
    "        (allstar['FE_H'] > -999) &\n",
    "        (allstar['C_FE'] > -999) &\n",
    "        (allstar['N_FE'] > -999) & \n",
    "        (allstar['O_FE'] > -999) & \n",
    "        (allstar['AL_FE'] > -999) &\n",
    "        (allstar['NI_FE'] > -999) &\n",
    "        (allstar['LOGG'] > 4.5) & \n",
    "        (allstar['TEFF'] > 3500) & (allstar['TEFF'] < 7000) &\n",
    "        (allstar['M_H'] > -1.))\n",
    "        \n",
    "stars = Table(allstar[mask])\n",
    "len(stars)"
   ]
  },
  {
   "cell_type": "code",
   "execution_count": 5,
   "metadata": {},
   "outputs": [
    {
     "data": {
      "text/plain": [
       "array(['C_FE', 'CI_FE', 'N_FE', 'O_FE', 'NA_FE', 'MG_FE', 'AL_FE',\n",
       "       'SI_FE', 'P_FE', 'S_FE', 'K_FE', 'CA_FE', 'TI_FE', 'TIII_FE',\n",
       "       'V_FE', 'CR_FE', 'MN_FE', 'CO_FE', 'NI_FE', 'CU_FE', 'GE_FE',\n",
       "       'RB_FE', 'CE_FE', 'ND_FE', 'YB_FE'], dtype='<U7')"
      ]
     },
     "execution_count": 5,
     "metadata": {},
     "output_type": "execute_result"
    }
   ],
   "source": [
    "per_Fe_names = []\n",
    "for name in stars.dtype.names:\n",
    "    if '_FE' in name and '_ERR' not in name and 'FEH' not in name and 'FLAG' not in name:\n",
    "        per_Fe_names.append(name)\n",
    "per_Fe_names = np.array(per_Fe_names)\n",
    "per_Fe_names"
   ]
  },
  {
   "cell_type": "code",
   "execution_count": 6,
   "metadata": {},
   "outputs": [],
   "source": [
    "# Note: more correct? https://github.com/megbedell/q2/blob/master/abundances.py\n",
    "lodders = ascii.read('../trendyapogee/data/Lodders2003.txt', delimiter=',')\n",
    "lodders['elem'] = [n.lower() for n in lodders['elem']]\n",
    "lodders = lodders[np.argsort(lodders['elem'])]"
   ]
  },
  {
   "cell_type": "code",
   "execution_count": 7,
   "metadata": {},
   "outputs": [],
   "source": [
    "per_Fe_Tc = []\n",
    "good_Tc = []\n",
    "for i, name in enumerate(per_Fe_names):\n",
    "    _name = name.lower().split('_')[0]\n",
    "    Tc = lodders['Tc_50'][lodders['elem'] == _name]\n",
    "    if len(Tc) == 0: \n",
    "        per_Fe_Tc.append(np.nan)\n",
    "    else:\n",
    "        per_Fe_Tc.append(Tc[0])\n",
    "    \n",
    "per_Fe_Tc = np.array(per_Fe_Tc)"
   ]
  },
  {
   "cell_type": "code",
   "execution_count": 8,
   "metadata": {},
   "outputs": [],
   "source": [
    "elem_names = np.append(per_Fe_names[np.isfinite(per_Fe_Tc)], 'FE_H')\n",
    "elem_Tc = np.append(per_Fe_Tc[np.isfinite(per_Fe_Tc)], 1334.0)"
   ]
  },
  {
   "cell_type": "code",
   "execution_count": 33,
   "metadata": {},
   "outputs": [
    {
     "data": {
      "text/plain": [
       "array(['C_FE', 'N_FE', 'O_FE', 'S_FE', 'RB_FE', 'GE_FE', 'NA_FE', 'K_FE',\n",
       "       'CU_FE', 'MN_FE', 'P_FE', 'CR_FE', 'FE_H', 'SI_FE', 'MG_FE',\n",
       "       'CO_FE', 'NI_FE', 'V_FE', 'YB_FE', 'CE_FE', 'CA_FE', 'TI_FE',\n",
       "       'ND_FE', 'AL_FE'], dtype='<U7')"
      ]
     },
     "execution_count": 33,
     "metadata": {},
     "output_type": "execute_result"
    }
   ],
   "source": [
    "elem_names[elem_Tc.argsort()]"
   ]
  },
  {
   "cell_type": "code",
   "execution_count": 40,
   "metadata": {},
   "outputs": [
    {
     "data": {
      "text/plain": [
       "(22063, 24)"
      ]
     },
     "execution_count": 40,
     "metadata": {},
     "output_type": "execute_result"
    }
   ],
   "source": [
    "x = elem_Tc\n",
    "all_y = np.zeros((len(stars), len(elem_names)))\n",
    "all_err = np.zeros((len(stars), len(elem_names)))\n",
    "\n",
    "for i, name in enumerate(elem_names):\n",
    "    all_y[:, i] = stars[name] - stars['FE_H']\n",
    "    all_err[:, i] = np.sqrt(stars[name + '_ERR']**2 + stars['FE_H_ERR']**2)\n",
    "    stars['{}_H'.format(name.split('_')[0])] = all_y[:, i]\n",
    "\n",
    "all_y.shape"
   ]
  },
  {
   "cell_type": "code",
   "execution_count": 50,
   "metadata": {},
   "outputs": [
    {
     "data": {
      "text/plain": [
       "4"
      ]
     },
     "execution_count": 50,
     "metadata": {},
     "output_type": "execute_result"
    }
   ],
   "source": [
    "i = 4\n",
    "\n",
    "star = stars[i]\n",
    "star_mask = ((np.abs(star['TEFF'] - stars['TEFF']) < 100) & \n",
    "             (np.abs(star['LOGG'] - stars['LOGG']) < 0.05) & \n",
    "             (np.abs(star['SNR'] - stars['SNR']) < 20) & \n",
    "             (np.abs(star['C_H'] - stars['C_H']) < 0.05) &\n",
    "             (np.abs(star['N_H'] - stars['N_H']) < 0.05) &\n",
    "             (np.abs(star['AL_H'] - stars['AL_H']) > 0.1) & \n",
    "             (np.abs(star['NI_H'] - stars['NI_H']) > 0.1) & \n",
    "             (np.abs(star['MG_H'] - stars['MG_H']) > 0.1) & \n",
    "             # (np.abs(star['FE_H'] - stars['FE_H']) < 0.02) & \n",
    "             (star['APOGEE_ID'] != stars['APOGEE_ID']))\n",
    "star_mask.sum()"
   ]
  },
  {
   "cell_type": "code",
   "execution_count": 54,
   "metadata": {},
   "outputs": [
    {
     "data": {
      "text/plain": [
       "Text(0,0.5,'$\\\\Delta$[X/H]')"
      ]
     },
     "execution_count": 54,
     "metadata": {},
     "output_type": "execute_result"
    },
    {
     "data": {
      "image/png": "[encoded data removed]",
      "text/plain": [
       "<Figure size 432x432 with 1 Axes>"
      ]
     },
     "metadata": {
      "image/png": {
       "height": 388,
       "width": 417
      }
     },
     "output_type": "display_data"
    }
   ],
   "source": [
    "j = 0\n",
    "other_star = all_y[star_mask][j]\n",
    "\n",
    "plot_mask = (all_y[i] > -999) & (all_y[star_mask][j] > -999)\n",
    "plt.errorbar(x[plot_mask], \n",
    "             (all_y[i] - all_y[star_mask][j])[plot_mask],\n",
    "             yerr=np.sqrt(all_err[i]**2 + all_err[star_mask][0]**2)[plot_mask],\n",
    "             ls='none', marker='o', color='k', ecolor='#666666')\n",
    "plt.xlim(0, 1750)\n",
    "plt.ylim(-0.5, 0.5)\n",
    "plt.axhline(0, color='#cccccc', zorder=-100, marker='')\n",
    "plt.xlabel('$T_c$ [K]')\n",
    "plt.ylabel(r'$\\Delta$[X/H]')"
   ]
  },
  {
   "cell_type": "markdown",
   "metadata": {},
   "source": [
    "--- \n",
    "\n",
    "### Look for Kronos/Krios analog?"
   ]
  },
  {
   "cell_type": "code",
   "execution_count": 57,
   "metadata": {},
   "outputs": [],
   "source": [
    "from tqdm import tqdm"
   ]
  },
  {
   "cell_type": "code",
   "execution_count": 61,
   "metadata": {},
   "outputs": [
    {
     "name": "stderr",
     "output_type": "stream",
     "text": [
      "100%|██████████| 22063/22063 [01:13<00:00, 300.25it/s]\n"
     ]
    }
   ],
   "source": [
    "all_dfeh = []\n",
    "for i, star in tqdm(enumerate(stars), total=len(stars)):\n",
    "    star_mask = ((np.abs(star['TEFF'] - stars['TEFF']) < 100) & \n",
    "                 (np.abs(star['LOGG'] - stars['LOGG']) < 0.1) & \n",
    "                 (stars['SNR'] > 150) & \n",
    "                 (star['APOGEE_ID'] != stars['APOGEE_ID']))\n",
    "    \n",
    "    dC = star['C_H'] - stars['MG_H']\n",
    "    dN = star['N_H'] - stars['MG_H']\n",
    "    dO = star['O_H'] - stars['MG_H']\n",
    "    CNO_mask = (np.abs(dC) < 0.05) & (np.abs(dN) < 0.05) & (np.abs(dO) < 0.05)\n",
    "    \n",
    "    metal_lim = 0.05\n",
    "    dMg = star['MG_H'] - stars['MG_H']\n",
    "    dNi = star['NI_H'] - stars['NI_H']\n",
    "    dTi = star['TI_H'] - stars['TI_H']\n",
    "    dAl = star['AL_H'] - stars['AL_H']\n",
    "    metal_mask = ((np.abs(dMg) > metal_lim) & (np.abs(dNi) > metal_lim) & \n",
    "                  (np.abs(dTi) > metal_lim) & (np.abs(dAl) > metal_lim) &\n",
    "                  (np.abs(dNi) == np.sign(dMg)) & (np.abs(dTi) == np.sign(dMg)) &\n",
    "                  (np.abs(dAl) == np.sign(dMg)))\n",
    "    \n",
    "    all_mask = star_mask & CNO_mask & metal_mask\n",
    "    \n",
    "    if all_mask.sum():\n",
    "        print('yo!')\n",
    "        break\n",
    "                  \n",
    "    \n",
    "    all_dfeh.append(star['FE_H'] - stars['FE_H'])\n",
    "    continue\n",
    "    \n",
    "    if star_mask.sum():\n",
    "        other_stars = all_y[star_mask]\n",
    "\n",
    "        null_mask = (all_y[i][None] > -999) & (all_y[star_mask] > -999)\n",
    "        dy = all_y[i][None] - all_y[star_mask]\n",
    "        dy_err = np.sqrt(all_err[i][None]**2 + all_err[star_mask]**2)\n",
    "\n",
    "        CNO_mask = np.all(np.abs(dy[:, :3]) < 3*dy_err[:, :3], axis=1)\n",
    "\n",
    "        for j in range(dy.shape[0]):\n",
    "            plt.errorbar(x[null_mask[j]], dy[j, null_mask[j]], yerr=dy_err[j, null_mask[j]],\n",
    "                         ls='none', marker='o')\n",
    "        plt.xlim(0, 1750)\n",
    "        plt.ylim(-0.5, 0.5)\n",
    "        plt.axhline(0, color='#cccccc', zorder=-100, marker='')\n",
    "        plt.xlabel('$T_c$ [K]')\n",
    "        plt.ylabel(r'$\\Delta$[X/H]')\n",
    "\n",
    "        break"
   ]
  },
  {
   "cell_type": "code",
   "execution_count": null,
   "metadata": {},
   "outputs": [],
   "source": []
  }
 ],
 "metadata": {
  "kernelspec": {
   "display_name": "Python [default]",
   "language": "python",
   "name": "python3"
  },
  "language_info": {
   "codemirror_mode": {
    "name": "ipython",
    "version": 3
   },
   "file_extension": ".py",
   "mimetype": "text/x-python",
   "name": "python",
   "nbconvert_exporter": "python",
   "pygments_lexer": "ipython3",
   "version": "3.6.8"
  }
 },
 "nbformat": 4,
 "nbformat_minor": 2
}
